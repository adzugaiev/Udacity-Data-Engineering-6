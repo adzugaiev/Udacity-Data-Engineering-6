{
 "cells": [
  {
   "cell_type": "markdown",
   "metadata": {
    "editable": true
   },
   "source": [
    "# Immigration Data Warehouse\n",
    "## Data Engineering Capstone Project\n",
    "### 1 Investigate Data and Scope the Project\n",
    "This notebook investigates the structure and quality of the datasets potentially involved with the immigration data warehouse:\n",
    "\n",
    "1. Immigration Data\n",
    "1. Countries\n",
    "1. Cities & Demography\n",
    "1. Airport Codes\n",
    "1. Land Temperatures\n",
    "\n",
    "Based on this investigation, a DWH data model will be suggested and the ETL process designed."
   ]
  },
  {
   "cell_type": "code",
   "execution_count": 1,
   "metadata": {
    "editable": true
   },
   "outputs": [],
   "source": [
    "from pyspark.sql import SparkSession\n",
    "from pyspark.sql.types import IntegerType, DateType\n",
    "import pyspark.sql.functions as f\n",
    "import helper as h"
   ]
  },
  {
   "cell_type": "code",
   "execution_count": 2,
   "metadata": {
    "editable": true
   },
   "outputs": [],
   "source": [
    "spark = SparkSession.builder \\\n",
    "        .config('spark.jars.packages', 'org.apache.hadoop:hadoop-aws:2.7.5') \\\n",
    "        .getOrCreate()"
   ]
  },
  {
   "cell_type": "markdown",
   "metadata": {
    "editable": true
   },
   "source": [
    "### 1.1 I94 Immigration Data\n",
    "\n",
    "This data comes from the [US National Tourism and Trade Office](https://travel.trade.gov/research/reports/i94/historical/2016.html). A data dictionary is included in the workspace."
   ]
  },
  {
   "cell_type": "code",
   "execution_count": 3,
   "metadata": {
    "editable": true
   },
   "outputs": [],
   "source": [
    "i94data = spark.read.parquet('i94_data')"
   ]
  },
  {
   "cell_type": "code",
   "execution_count": 4,
   "metadata": {
    "editable": true,
    "toggleable": true,
    "ulab": {
     "buttons": {
      "ulab-button-toggle-a92db465": {
       "bashCommand": "",
       "filesToOpen": [],
       "isPreviewButton": false,
       "runInBackground": false,
       "style": "primary",
       "text": "",
       "toggleOffText": "Rename Columns",
       "toggleOnText": "Rename Columns"
      }
     }
    }
   },
   "outputs": [],
   "source": [
    "i94data = i94data \\\n",
    "    .withColumnRenamed('cicid',    'i94_id') \\\n",
    "    .withColumnRenamed('arrdate',  'arrive_date') \\\n",
    "    .withColumnRenamed('i94yr',    'arrive_year') \\\n",
    "    .withColumnRenamed('i94mon',   'arrive_month') \\\n",
    "    .withColumnRenamed('i94port',  'arrive_port') \\\n",
    "    .withColumnRenamed('i94mode',  'arrive_by') \\\n",
    "    .withColumnRenamed('airline',  'arrive_airline') \\\n",
    "    .withColumnRenamed('fltno',    'arrive_flight') \\\n",
    "    .withColumnRenamed('entdepa',  'arrive_flag') \\\n",
    "    .withColumnRenamed('i94addr',  'arrive_to_state') \\\n",
    "    .withColumnRenamed('i94cit',   'pers_country_birth') \\\n",
    "    .withColumnRenamed('i94res',   'pers_country_resid') \\\n",
    "    .withColumnRenamed('biryear',  'pers_birth_year') \\\n",
    "    .withColumnRenamed('i94bir',   'pers_age') \\\n",
    "    .withColumnRenamed('occup',    'pers_occupation') \\\n",
    "    .withColumnRenamed('gender',   'pers_gender') \\\n",
    "    .withColumnRenamed('insnum',   'pers_ins_number')  \\\n",
    "    .withColumnRenamed('i94visa',  'visa') \\\n",
    "    .withColumnRenamed('visapost', 'visa_issued') \\\n",
    "    .withColumnRenamed('visatype', 'visa_type') \\\n",
    "    .withColumnRenamed('dtaddto',  'allow_stay_until') \\\n",
    "    .withColumnRenamed('entdepd',  'depart_flag') \\\n",
    "    .withColumnRenamed('depdate',  'depart_date') \\\n",
    "    .withColumnRenamed('count',    'cnt') \\\n",
    "    .withColumnRenamed('dtadfile', 'char_date') \\\n",
    "    .withColumnRenamed('entdepu',  'update_flag') \\\n",
    "    .withColumnRenamed('matflag',  'match_flag') \\\n",
    "    .withColumnRenamed('admnum',   'admission_number')"
   ]
  },
  {
   "cell_type": "markdown",
   "metadata": {
    "editable": true
   },
   "source": [
    "#### 1.1.1 Drop columns\n",
    "Columns with small percentage of present values can be dropped"
   ]
  },
  {
   "cell_type": "code",
   "execution_count": 5,
   "metadata": {
    "editable": true
   },
   "outputs": [
    {
     "data": {
      "image/png": "[encoded data removed]",
      "text/plain": [
       "<matplotlib.figure.Figure at 0x7f0b1a8c7550>"
      ]
     },
     "metadata": {
      "needs_background": "light"
     },
     "output_type": "display_data"
    }
   ],
   "source": [
    "h.plot_present(i94data)"
   ]
  },
  {
   "cell_type": "markdown",
   "metadata": {
    "editable": true
   },
   "source": [
    "Column `cnt` can be dropped because it's constant:"
   ]
  },
  {
   "cell_type": "code",
   "execution_count": 6,
   "metadata": {
    "editable": true
   },
   "outputs": [
    {
     "name": "stdout",
     "output_type": "stream",
     "text": [
      "+---+-------+\n",
      "|cnt|  count|\n",
      "+---+-------+\n",
      "|1.0|3096313|\n",
      "+---+-------+\n",
      "\n"
     ]
    }
   ],
   "source": [
    "i94data.groupBy('cnt').count().sort(f.desc('count')).show(10)"
   ]
  },
  {
   "cell_type": "code",
   "execution_count": 7,
   "metadata": {
    "editable": true
   },
   "outputs": [],
   "source": [
    "i94data = i94data.drop('cnt', 'pers_ins_number', 'pers_occupation', 'update_flag', 'char_date')"
   ]
  },
  {
   "cell_type": "markdown",
   "metadata": {
    "editable": true
   },
   "source": [
    "#### 1.1.2 Type conversions\n",
    "float to int, dates to datetime"
   ]
  },
  {
   "cell_type": "code",
   "execution_count": 8,
   "metadata": {
    "editable": true
   },
   "outputs": [],
   "source": [
    "i94data = i94data \\\n",
    "    .withColumn('i94_id',             i94data.i94_id.cast(IntegerType())) \\\n",
    "    .withColumn('arrive_date',        h.udf_date(i94data.arrive_date)) \\\n",
    "    .withColumn('arrive_month',       i94data.arrive_month.cast(IntegerType())) \\\n",
    "    .withColumn('arrive_year',        i94data.arrive_year.cast(IntegerType())) \\\n",
    "    .withColumn('pers_age',           i94data.pers_age.cast(IntegerType())) \\\n",
    "    .withColumn('pers_birth_year',    i94data.pers_birth_year.cast(IntegerType())) \\\n",
    "    .withColumn('pers_country_birth', i94data.pers_country_birth.cast(IntegerType())) \\\n",
    "    .withColumn('pers_country_resid', i94data.pers_country_resid.cast(IntegerType())) \\\n",
    "    .withColumn('depart_date',        h.udf_date(i94data.depart_date))"
   ]
  },
  {
   "cell_type": "markdown",
   "metadata": {
    "editable": true
   },
   "source": [
    "Convert small enums to strings"
   ]
  },
  {
   "cell_type": "code",
   "execution_count": 9,
   "metadata": {
    "editable": true
   },
   "outputs": [],
   "source": [
    "i94data = i94data \\\n",
    "    .withColumn('arrive_by', h.udf_arrive_by(i94data.arrive_by)) \\\n",
    "    .withColumn('visa',      h.udf_visa(i94data.visa))"
   ]
  },
  {
   "cell_type": "code",
   "execution_count": 10,
   "metadata": {
    "editable": true
   },
   "outputs": [
    {
     "data": {
      "image/png": "[encoded data removed]",
      "text/plain": [
       "<matplotlib.figure.Figure at 0x7f0aec85cb00>"
      ]
     },
     "metadata": {
      "needs_background": "light"
     },
     "output_type": "display_data"
    }
   ],
   "source": [
    "h.plot_top(i94data, 'arrive_by')"
   ]
  },
  {
   "cell_type": "code",
   "execution_count": 11,
   "metadata": {
    "editable": true
   },
   "outputs": [
    {
     "data": {
      "image/png": "[encoded data removed]",
      "text/plain": [
       "<matplotlib.figure.Figure at 0x7f0aec74c240>"
      ]
     },
     "metadata": {
      "needs_background": "light"
     },
     "output_type": "display_data"
    }
   ],
   "source": [
    "h.plot_top(i94data, 'visa')"
   ]
  },
  {
   "cell_type": "markdown",
   "metadata": {
    "editable": true
   },
   "source": [
    "#### 1.1.3 Check missing and duplicate IDs"
   ]
  },
  {
   "cell_type": "code",
   "execution_count": 12,
   "metadata": {
    "editable": true
   },
   "outputs": [
    {
     "name": "stdout",
     "output_type": "stream",
     "text": [
      "+------+-----+\n",
      "|i94_id|count|\n",
      "+------+-----+\n",
      "+------+-----+\n",
      "\n"
     ]
    }
   ],
   "source": [
    "i94data.groupBy('i94_id').count().where('count > 1').show(10)"
   ]
  },
  {
   "cell_type": "code",
   "execution_count": 13,
   "metadata": {
    "editable": true
   },
   "outputs": [
    {
     "data": {
      "text/plain": [
       "0"
      ]
     },
     "execution_count": 13,
     "metadata": {},
     "output_type": "execute_result"
    }
   ],
   "source": [
    "i94data.where('i94_id is null').count()"
   ]
  },
  {
   "cell_type": "markdown",
   "metadata": {
    "editable": true
   },
   "source": [
    "There are no missing or duplicate rows by `i94_id`"
   ]
  },
  {
   "cell_type": "markdown",
   "metadata": {
    "editable": true
   },
   "source": [
    "#### 1.1.4 Check date boundaries"
   ]
  },
  {
   "cell_type": "code",
   "execution_count": 14,
   "metadata": {
    "editable": true
   },
   "outputs": [
    {
     "name": "stdout",
     "output_type": "stream",
     "text": [
      "+----------------+----------------+\n",
      "|min(arrive_date)|max(arrive_date)|\n",
      "+----------------+----------------+\n",
      "|      2016-04-01|      2016-04-30|\n",
      "+----------------+----------------+\n",
      "\n"
     ]
    }
   ],
   "source": [
    "i94data.select(f.min('arrive_date'), f.max('arrive_date')).show()"
   ]
  },
  {
   "cell_type": "code",
   "execution_count": 15,
   "metadata": {
    "editable": true
   },
   "outputs": [
    {
     "name": "stdout",
     "output_type": "stream",
     "text": [
      "+----------------+----------------+\n",
      "|min(depart_date)|max(depart_date)|\n",
      "+----------------+----------------+\n",
      "|      2001-07-20|      2084-05-16|\n",
      "+----------------+----------------+\n",
      "\n"
     ]
    }
   ],
   "source": [
    "i94data.select(f.min('depart_date'), f.max('depart_date')).show()"
   ]
  },
  {
   "cell_type": "markdown",
   "metadata": {
    "editable": true
   },
   "source": [
    "This is weird, do we have records with `depart_date > current_date()`?"
   ]
  },
  {
   "cell_type": "code",
   "execution_count": 16,
   "metadata": {
    "editable": true
   },
   "outputs": [
    {
     "name": "stdout",
     "output_type": "stream",
     "text": [
      "+-----------+-----------+\n",
      "|arrive_date|depart_date|\n",
      "+-----------+-----------+\n",
      "| 2016-04-05| 2084-05-16|\n",
      "| 2016-04-25| 2069-05-03|\n",
      "+-----------+-----------+\n",
      "\n"
     ]
    }
   ],
   "source": [
    "i94data.select('arrive_date', 'depart_date').where(i94data.depart_date > f.current_date()).show()"
   ]
  },
  {
   "cell_type": "markdown",
   "metadata": {
    "editable": true
   },
   "source": [
    "Anyway, this can be addressed on ETL."
   ]
  },
  {
   "cell_type": "code",
   "execution_count": 17,
   "metadata": {
    "editable": true
   },
   "outputs": [
    {
     "name": "stdout",
     "output_type": "stream",
     "text": [
      "+-------+-----------+-----------+---------+---------------+------------------+------------------+--------+---------+\n",
      "| i94_id|arrive_date|arrive_port|arrive_by|arrive_to_state|pers_country_birth|pers_country_resid|    visa|visa_type|\n",
      "+-------+-----------+-----------+---------+---------------+------------------+------------------+--------+---------+\n",
      "|5748993| 2016-04-30|        CHI|      Air|             MO|               250|               250|Business|       B1|\n",
      "|5749006| 2016-04-30|        CHI|      Air|             MO|               250|               250|Pleasure|       B2|\n",
      "|5749733| 2016-04-30|        MIA|      Sea|             MO|               251|               251|Pleasure|       B2|\n",
      "|5749734| 2016-04-30|        MIA|      Sea|             MO|               251|               251|Pleasure|       B2|\n",
      "|5749735| 2016-04-30|        MIA|      Sea|             MO|               251|               251|Pleasure|       B2|\n",
      "|5749736| 2016-04-30|        MIA|      Sea|             MO|               251|               251|Pleasure|       B2|\n",
      "|5749737| 2016-04-30|        MIA|      Sea|             MO|               251|               251|Pleasure|       B2|\n",
      "|5749738| 2016-04-30|        MIA|      Sea|             MO|               251|               251|Pleasure|       B2|\n",
      "|5749739| 2016-04-30|        MIA|      Sea|             MO|               251|               251|Pleasure|       B2|\n",
      "|5750086| 2016-04-30|        CHI|      Air|             MO|               253|               253|Pleasure|       B2|\n",
      "+-------+-----------+-----------+---------+---------------+------------------+------------------+--------+---------+\n",
      "only showing top 10 rows\n",
      "\n"
     ]
    }
   ],
   "source": [
    "i94data.select('i94_id',\n",
    "               'arrive_date',\n",
    "               'arrive_port',\n",
    "               'arrive_by',\n",
    "               'arrive_to_state',\n",
    "               'pers_country_birth',\n",
    "               'pers_country_resid',\n",
    "               'visa',\n",
    "               'visa_type').where('arrive_to_state = \"MO\"').show(10)"
   ]
  },
  {
   "cell_type": "markdown",
   "metadata": {
    "editable": true
   },
   "source": [
    "### 1.2 Countries\n",
    "Having integer ids for countries is not sufficient, so I made `I94Countries.csv` based on labels descriptions."
   ]
  },
  {
   "cell_type": "code",
   "execution_count": 20,
   "metadata": {
    "editable": true
   },
   "outputs": [
    {
     "name": "stdout",
     "output_type": "stream",
     "text": [
      "+---+--------------------+\n",
      "| id|                name|\n",
      "+---+--------------------+\n",
      "|582|'MEXICO Air Sea, ...|\n",
      "|236|       'AFGHANISTAN'|\n",
      "|101|           'ALBANIA'|\n",
      "+---+--------------------+\n",
      "only showing top 3 rows\n",
      "\n"
     ]
    }
   ],
   "source": [
    "countries = spark.read.csv('dimension_data/I94Countries.csv',\n",
    "                           sep = ';',\n",
    "                           inferSchema = True, header = True)\n",
    "countries.show(3)"
   ]
  },
  {
   "cell_type": "markdown",
   "metadata": {
    "editable": true
   },
   "source": [
    "Strip quotes from names"
   ]
  },
  {
   "cell_type": "code",
   "execution_count": 21,
   "metadata": {
    "editable": true
   },
   "outputs": [
    {
     "name": "stdout",
     "output_type": "stream",
     "text": [
      "+---+--------------------+\n",
      "| id|                name|\n",
      "+---+--------------------+\n",
      "|582|MEXICO Air Sea, a...|\n",
      "|236|         AFGHANISTAN|\n",
      "|101|             ALBANIA|\n",
      "+---+--------------------+\n",
      "only showing top 3 rows\n",
      "\n"
     ]
    }
   ],
   "source": [
    "countries = countries.withColumn('name', h.udf_strip_quotes('name'))\n",
    "countries.show(3)"
   ]
  },
  {
   "cell_type": "markdown",
   "metadata": {
    "editable": true
   },
   "source": [
    "Do we have any missing country ids in the immigration data?"
   ]
  },
  {
   "cell_type": "code",
   "execution_count": 22,
   "metadata": {
    "editable": true
   },
   "outputs": [
    {
     "name": "stdout",
     "output_type": "stream",
     "text": [
      "+------------------+-----+\n",
      "|pers_country_resid|count|\n",
      "+------------------+-----+\n",
      "+------------------+-----+\n",
      "\n"
     ]
    }
   ],
   "source": [
    "i94data.join(countries,\n",
    "              (i94data.pers_country_resid == countries.id),\n",
    "              how = 'left_anti') \\\n",
    "        .groupBy('pers_country_resid') \\\n",
    "        .count().sort(f.desc('count')).show()"
   ]
  },
  {
   "cell_type": "markdown",
   "metadata": {
    "editable": true
   },
   "source": [
    "None for the country of residence."
   ]
  },
  {
   "cell_type": "code",
   "execution_count": 23,
   "metadata": {
    "editable": true
   },
   "outputs": [
    {
     "name": "stdout",
     "output_type": "stream",
     "text": [
      "+------------------+------+\n",
      "|pers_country_birth| count|\n",
      "+------------------+------+\n",
      "|               148|157806|\n",
      "|               254|137735|\n",
      "|               252| 41132|\n",
      "|               746| 22668|\n",
      "|               133| 17055|\n",
      "|               180|  4115|\n",
      "|               734|  2721|\n",
      "|               718|   866|\n",
      "|               756|   846|\n",
      "|               714|   390|\n",
      "+------------------+------+\n",
      "only showing top 10 rows\n",
      "\n"
     ]
    }
   ],
   "source": [
    "ne_countries = i94data \\\n",
    "    .join(countries,\n",
    "          (i94data.pers_country_birth == countries.id),\n",
    "          how = 'left_anti') \\\n",
    "    .groupBy('pers_country_birth') \\\n",
    "    .count().sort(f.desc('count'))\n",
    "ne_countries.show(10)"
   ]
  },
  {
   "cell_type": "markdown",
   "metadata": {
    "editable": true
   },
   "source": [
    "Plenty for the country of birth. Since these ids do not appear as the country of residence I suspect they stand for nonexistent countries like the Soviet Union and Yugoslavia. A check against [ISO-3166-1](https://en.wikipedia.org/wiki/ISO_3166-1) shows that I94 country IDs are not even the ISO numeric country codes. What I can do is to add these ids to `countries` as e.g. 'Nonexistent 148'."
   ]
  },
  {
   "cell_type": "code",
   "execution_count": 24,
   "metadata": {
    "editable": true
   },
   "outputs": [
    {
     "name": "stdout",
     "output_type": "stream",
     "text": [
      "289 countries original, append with\n",
      "30 countries nonexistent:\n",
      "319 countries total.\n"
     ]
    }
   ],
   "source": [
    "print(f'{countries.count()} countries original, append with')\n",
    "print(f'{ne_countries.count()} countries nonexistent:')\n",
    "\n",
    "countries = countries \\\n",
    "    .union(ne_countries \\\n",
    "           .withColumnRenamed('pers_country_birth', 'id') \\\n",
    "           .withColumn('name', h.udf_name_ne('id')) \\\n",
    "           .drop('count'))\n",
    "\n",
    "print(f'{countries.count()} countries total.')"
   ]
  },
  {
   "cell_type": "code",
   "execution_count": 25,
   "metadata": {
    "editable": true
   },
   "outputs": [
    {
     "name": "stdout",
     "output_type": "stream",
     "text": [
      "+---+---------------+\n",
      "| id|           name|\n",
      "+---+---------------+\n",
      "|236|    AFGHANISTAN|\n",
      "|101|        ALBANIA|\n",
      "|133|Nonexistent 133|\n",
      "|180|Nonexistent 180|\n",
      "+---+---------------+\n",
      "\n"
     ]
    }
   ],
   "source": [
    "countries.where('id in (101, 236, 133, 180)').show()"
   ]
  },
  {
   "cell_type": "code",
   "execution_count": 26,
   "metadata": {
    "editable": true
   },
   "outputs": [
    {
     "name": "stdout",
     "output_type": "stream",
     "text": [
      "+------------------+-----+\n",
      "|pers_country_birth|count|\n",
      "+------------------+-----+\n",
      "+------------------+-----+\n",
      "\n"
     ]
    }
   ],
   "source": [
    "i94data.join(countries,\n",
    "              (i94data.pers_country_birth == countries.id),\n",
    "              how = 'left_anti') \\\n",
    "        .groupBy('pers_country_birth') \\\n",
    "        .count().sort(f.desc('count')).show()"
   ]
  },
  {
   "cell_type": "markdown",
   "metadata": {
    "editable": true
   },
   "source": [
    "No more missing ids for the country of birth."
   ]
  },
  {
   "cell_type": "markdown",
   "metadata": {
    "editable": true
   },
   "source": [
    "### 1.3 Cities Demographics Data \n",
    "This data comes [from OpenSoft](https://public.opendatasoft.com/explore/dataset/us-cities-demographics/export/)."
   ]
  },
  {
   "cell_type": "code",
   "execution_count": 27,
   "metadata": {
    "editable": true
   },
   "outputs": [],
   "source": [
    "citydem = spark.read.csv('dimension_data/us-cities-demographics.csv',\n",
    "                         sep = ';',\n",
    "                         inferSchema = True, header = True)"
   ]
  },
  {
   "cell_type": "code",
   "execution_count": 28,
   "metadata": {
    "editable": true
   },
   "outputs": [
    {
     "data": {
      "image/png": "[encoded data removed]",
      "text/plain": [
       "<matplotlib.figure.Figure at 0x7f0aec7bee80>"
      ]
     },
     "metadata": {
      "needs_background": "light"
     },
     "output_type": "display_data"
    }
   ],
   "source": [
    "h.plot_present(citydem)"
   ]
  },
  {
   "cell_type": "markdown",
   "metadata": {
    "editable": true
   },
   "source": [
    "Note that cities demographics has composite primary key (`City`, `State`, `State Code`, `Race`)"
   ]
  },
  {
   "cell_type": "code",
   "execution_count": 29,
   "metadata": {
    "editable": true
   },
   "outputs": [
    {
     "name": "stdout",
     "output_type": "stream",
     "text": [
      "+----+-----+----------+----+-----+\n",
      "|City|State|State Code|Race|count|\n",
      "+----+-----+----------+----+-----+\n",
      "+----+-----+----------+----+-----+\n",
      "\n"
     ]
    }
   ],
   "source": [
    "citydem.groupBy('City', 'State', 'State Code', 'Race').count().where('count > 1').show(10)"
   ]
  },
  {
   "cell_type": "markdown",
   "metadata": {
    "editable": true
   },
   "source": [
    "The combination (`City`, `State`, `State Code`) repeats as many times as many `Race` values are registered per city, with `Count` showing the population associated with the race, while other numbers like `Median Age`, `Male Population`, `Female Population`, `Total Population`, `Foreign-born` are given per city, not per city in combination with race."
   ]
  },
  {
   "cell_type": "code",
   "execution_count": 30,
   "metadata": {
    "editable": true
   },
   "outputs": [
    {
     "name": "stdout",
     "output_type": "stream",
     "text": [
      "+-----------+--------+----------+--------------------+------+----------+---------------+-----------------+----------------+\n",
      "|       City|   State|State Code|                Race| Count|Median Age|Male Population|Female Population|Total Population|\n",
      "+-----------+--------+----------+--------------------+------+----------+---------------+-----------------+----------------+\n",
      "|Springfield|Missouri|        MO|               Asian|  5725|      34.1|          81057|            85741|          166798|\n",
      "|Springfield|Missouri|        MO|Black or African-...| 10026|      34.1|          81057|            85741|          166798|\n",
      "|Springfield|Missouri|        MO|               White|151686|      34.1|          81057|            85741|          166798|\n",
      "|Springfield|Missouri|        MO|  Hispanic or Latino|  7100|      34.1|          81057|            85741|          166798|\n",
      "|Springfield|Missouri|        MO|American Indian a...|  2777|      34.1|          81057|            85741|          166798|\n",
      "+-----------+--------+----------+--------------------+------+----------+---------------+-----------------+----------------+\n",
      "\n"
     ]
    }
   ],
   "source": [
    "citydem.select('City', 'State', 'State Code', 'Race', 'Count', 'Median Age',\n",
    "               'Male Population', 'Female Population', 'Total Population') \\\n",
    "       .where('City = \"Springfield\" and State = \"Missouri\"').show()"
   ]
  },
  {
   "cell_type": "markdown",
   "metadata": {
    "editable": true
   },
   "source": [
    "In the target DWH model, demographics will be normalized by splitting races and race counts into a separate table.\n",
    "\n",
    "Check for missing values:"
   ]
  },
  {
   "cell_type": "code",
   "execution_count": 31,
   "metadata": {
    "editable": true
   },
   "outputs": [
    {
     "name": "stdout",
     "output_type": "stream",
     "text": [
      "Empty City: 0\n",
      "Empty State: 0\n",
      "Empty State Code: 0\n",
      "Empty Race: 0\n"
     ]
    }
   ],
   "source": [
    "for c in ['City', 'State', 'State Code', 'Race']:\n",
    "    cnt = citydem.where(f.col(c).isNull()).count()\n",
    "    print(f'Empty {c}: {cnt}')"
   ]
  },
  {
   "cell_type": "markdown",
   "metadata": {
    "editable": true
   },
   "source": [
    "Let's rename columns to remove spaces:"
   ]
  },
  {
   "cell_type": "code",
   "execution_count": 32,
   "metadata": {
    "editable": true,
    "toggleable": true,
    "ulab": {
     "buttons": {
      "ulab-button-toggle-d5778e0d": {
       "bashCommand": "",
       "filesToOpen": [],
       "isPreviewButton": false,
       "runInBackground": false,
       "style": "primary",
       "text": "",
       "toggleOffText": "Rename Columns",
       "toggleOnText": "Rename Columns"
      }
     }
    }
   },
   "outputs": [],
   "source": [
    "citydem = citydem \\\n",
    "    .withColumnRenamed('City',                   'city') \\\n",
    "    .withColumnRenamed('State',                  'state') \\\n",
    "    .withColumnRenamed('Median Age',             'age_median') \\\n",
    "    .withColumnRenamed('Male Population',        'pop_male') \\\n",
    "    .withColumnRenamed('Female Population',      'pop_female') \\\n",
    "    .withColumnRenamed('Total Population',       'pop_total') \\\n",
    "    .withColumnRenamed('Number of Veterans',     'pop_veteran') \\\n",
    "    .withColumnRenamed('Foreign-born',           'pop_foreign_born') \\\n",
    "    .withColumnRenamed('Average Household Size', 'avg_household_size') \\\n",
    "    .withColumnRenamed('State Code',             'state_code') \\\n",
    "    .withColumnRenamed('Race',                   'race') \\\n",
    "    .withColumnRenamed('Count',                  'race_count')"
   ]
  },
  {
   "cell_type": "markdown",
   "metadata": {
    "editable": true
   },
   "source": [
    "### 1.4 Airport Codes \n",
    "This is a simple table of airport codes and corresponding cities. It comes from [here](https://datahub.io/core/airport-codes#data). We can immediately narrow the table to only the US airports for match with the immigration data."
   ]
  },
  {
   "cell_type": "code",
   "execution_count": 33,
   "metadata": {
    "editable": true
   },
   "outputs": [],
   "source": [
    "airports = spark.read.csv('dimension_data/airport-codes.csv',\n",
    "                          sep = ',',\n",
    "                          inferSchema = True, header = True)            "
   ]
  },
  {
   "cell_type": "code",
   "execution_count": 34,
   "metadata": {
    "editable": true
   },
   "outputs": [
    {
     "name": "stdout",
     "output_type": "stream",
     "text": [
      "22757 total US airports.\n"
     ]
    }
   ],
   "source": [
    "airports = airports.where('iso_country = \"US\"')\n",
    "airport_cnt = airports.count()\n",
    "print(f'{airport_cnt} total US airports.')"
   ]
  },
  {
   "cell_type": "code",
   "execution_count": 35,
   "metadata": {
    "editable": true
   },
   "outputs": [
    {
     "data": {
      "image/png": "[encoded data removed]",
      "text/plain": [
       "<matplotlib.figure.Figure at 0x7f0aec687940>"
      ]
     },
     "metadata": {
      "needs_background": "light"
     },
     "output_type": "display_data"
    }
   ],
   "source": [
    "h.plot_present(airports)"
   ]
  },
  {
   "cell_type": "markdown",
   "metadata": {
    "editable": true
   },
   "source": [
    "Drop `iata_code` as mostly empty, `continent`, `iso_country` since we have limited the table to US records."
   ]
  },
  {
   "cell_type": "code",
   "execution_count": 36,
   "metadata": {
    "editable": true
   },
   "outputs": [],
   "source": [
    "airports = airports.drop('continent', 'iso_country', 'iata_code')"
   ]
  },
  {
   "cell_type": "markdown",
   "metadata": {
    "editable": true
   },
   "source": [
    "Check for missing values"
   ]
  },
  {
   "cell_type": "code",
   "execution_count": 37,
   "metadata": {
    "editable": true
   },
   "outputs": [
    {
     "data": {
      "text/plain": [
       "0"
      ]
     },
     "execution_count": 37,
     "metadata": {},
     "output_type": "execute_result"
    }
   ],
   "source": [
    "airports.where('ident is null').count()"
   ]
  },
  {
   "cell_type": "markdown",
   "metadata": {
    "editable": true
   },
   "source": [
    "Check for duplicates"
   ]
  },
  {
   "cell_type": "code",
   "execution_count": 38,
   "metadata": {
    "editable": true
   },
   "outputs": [
    {
     "name": "stdout",
     "output_type": "stream",
     "text": [
      "+-----+-----+\n",
      "|ident|count|\n",
      "+-----+-----+\n",
      "+-----+-----+\n",
      "\n"
     ]
    }
   ],
   "source": [
    "airports.groupBy('ident').count().where('count > 1').show(10)"
   ]
  },
  {
   "cell_type": "markdown",
   "metadata": {
    "editable": true
   },
   "source": [
    "Renaming and value conversions"
   ]
  },
  {
   "cell_type": "code",
   "execution_count": 39,
   "metadata": {
    "editable": true
   },
   "outputs": [
    {
     "name": "stdout",
     "output_type": "stream",
     "text": [
      "+----+-------------+--------------------+------------+----------------+--------+----------+----------+---------+---------+\n",
      "|  id|         type|                name|elevation_ft|            city|gps_code|local_code|state_code|      lat|     long|\n",
      "+----+-------------+--------------------+------------+----------------+--------+----------+----------+---------+---------+\n",
      "|00MO|small_airport|Cooper Flying Ser...|         970|            Alba|    00MO|      00MO|        MO| -94.4124|  37.2028|\n",
      "|01MO|     heliport|Highway Patrol Tr...|         615|Town and Country|    01MO|      01MO|        MO| -90.4843|  38.6417|\n",
      "|02MO|small_airport|        Troy Airpark|         650|            Troy|    02MO|      02MO|        MO| -91.0335|    39.05|\n",
      "|02MU|       closed| Timber Line Airpark|        1550|       Cassville|    null|      null|        MO|-93.79742|36.654232|\n",
      "|03MO|       closed|   Cahoochie Airport|        1010|          Urbana|    null|      null|        MO| -93.1316|  37.8845|\n",
      "|03MU|small_airport|  Mc Donnell Airport|         874|          Archie|    03MU|      03MU|        MO| -94.4125|  38.4925|\n",
      "|04MO|small_airport|Airpark Private A...|         767|        Vandalia|    04MO|      04MO|        MO| -91.4515|  39.3012|\n",
      "|05MO|     heliport|Portageville Comm...|         272|    Portageville|    05MO|      05MO|        MO| -89.6801|  36.4298|\n",
      "|06MO|small_airport|   Noahs Ark Airport|         755|         Waldron|    06MO|      06MO|        MO| -94.8044|  39.2306|\n",
      "|07MO|small_airport| Lake Sexton Airport|         880|     Warrensburg|    07MO|      07MO|        MO| -93.6169|    38.65|\n",
      "+----+-------------+--------------------+------------+----------------+--------+----------+----------+---------+---------+\n",
      "only showing top 10 rows\n",
      "\n"
     ]
    }
   ],
   "source": [
    "airports = airports \\\n",
    "    .withColumnRenamed('ident',        'id') \\\n",
    "    .withColumn(       'state_code',   h.udf_state('iso_region')) \\\n",
    "    .withColumnRenamed('municipality', 'city') \\\n",
    "    .withColumn(       'lat',          h.udf_lat('coordinates')) \\\n",
    "    .withColumn(       'long',         h.udf_long('coordinates')) \\\n",
    "    .drop('coordinates', 'iso_region')\n",
    "airports.where('state_code = \"MO\"').show(10)"
   ]
  },
  {
   "cell_type": "markdown",
   "metadata": {
    "editable": true
   },
   "source": [
    "#### 1.4.1 Match Airport to Arrival Port\n",
    "Which of the airport codes best matches to `i94_stage.arrive_port`?\n",
    "\n",
    "Limiting the immigration data to arrivals by air, we have this many unique arrival ports:"
   ]
  },
  {
   "cell_type": "code",
   "execution_count": 40,
   "metadata": {
    "editable": true
   },
   "outputs": [
    {
     "data": {
      "text/plain": [
       "181"
      ]
     },
     "execution_count": 40,
     "metadata": {},
     "output_type": "execute_result"
    }
   ],
   "source": [
    "i94data.where('arrive_by = \"Air\"') \\\n",
    "       .select('arrive_port') \\\n",
    "       .distinct().count()"
   ]
  },
  {
   "cell_type": "markdown",
   "metadata": {
    "editable": true
   },
   "source": [
    "With match by the airport id, we have this many misses:"
   ]
  },
  {
   "cell_type": "code",
   "execution_count": 41,
   "metadata": {
    "editable": true
   },
   "outputs": [
    {
     "data": {
      "text/plain": [
       "174"
      ]
     },
     "execution_count": 41,
     "metadata": {},
     "output_type": "execute_result"
    }
   ],
   "source": [
    "i94data.where('arrive_by = \"Air\"') \\\n",
    "       .select('arrive_port') \\\n",
    "       .join(airports,\n",
    "             (i94data.arrive_port == airports.id),\n",
    "             how = 'left_anti') \\\n",
    "       .distinct().count()"
   ]
  },
  {
   "cell_type": "markdown",
   "metadata": {
    "editable": true
   },
   "source": [
    "No match for the airport id. What about the GPS code?"
   ]
  },
  {
   "cell_type": "code",
   "execution_count": 42,
   "metadata": {
    "editable": true
   },
   "outputs": [
    {
     "data": {
      "text/plain": [
       "179"
      ]
     },
     "execution_count": 42,
     "metadata": {},
     "output_type": "execute_result"
    }
   ],
   "source": [
    "i94data.where('arrive_by = \"Air\"') \\\n",
    "       .select('arrive_port') \\\n",
    "       .join(airports,\n",
    "             (i94data.arrive_port == airports.gps_code),\n",
    "             how = 'left_anti') \\\n",
    "       .distinct().count()"
   ]
  },
  {
   "cell_type": "markdown",
   "metadata": {
    "editable": true
   },
   "source": [
    "No match either. What about the local code?"
   ]
  },
  {
   "cell_type": "code",
   "execution_count": 43,
   "metadata": {
    "editable": true
   },
   "outputs": [
    {
     "data": {
      "text/plain": [
       "72"
      ]
     },
     "execution_count": 43,
     "metadata": {},
     "output_type": "execute_result"
    }
   ],
   "source": [
    "i94data.where('arrive_by = \"Air\"') \\\n",
    "       .select('arrive_port') \\\n",
    "       .join(airports,\n",
    "             (i94data.arrive_port == airports.local_code),\n",
    "             how = 'left_anti') \\\n",
    "       .distinct().count()"
   ]
  },
  {
   "cell_type": "markdown",
   "metadata": {
    "editable": true
   },
   "source": [
    "Is `local_code` unique?"
   ]
  },
  {
   "cell_type": "code",
   "execution_count": 44,
   "metadata": {
    "editable": true
   },
   "outputs": [
    {
     "name": "stdout",
     "output_type": "stream",
     "text": [
      "+----------+-----+\n",
      "|local_code|count|\n",
      "+----------+-----+\n",
      "|      LL69|    2|\n",
      "|      1TS9|    2|\n",
      "|      3MI4|    2|\n",
      "|      K0Q5|    2|\n",
      "|       FHB|    2|\n",
      "|      XS29|    2|\n",
      "|       6X8|    2|\n",
      "|      TA29|    2|\n",
      "|       L11|    2|\n",
      "|      29NC|    2|\n",
      "+----------+-----+\n",
      "only showing top 10 rows\n",
      "\n"
     ]
    }
   ],
   "source": [
    "airports.groupBy('local_code').count().where('count > 1').show(10)"
   ]
  },
  {
   "cell_type": "markdown",
   "metadata": {
    "editable": true
   },
   "source": [
    "Let's take a closer look at some duplicating local codes:"
   ]
  },
  {
   "cell_type": "code",
   "execution_count": 45,
   "metadata": {
    "editable": true
   },
   "outputs": [
    {
     "name": "stdout",
     "output_type": "stream",
     "text": [
      "+-------+----------------+----------+----------------------------------+----------+\n",
      "|id     |city            |state_code|name                              |local_code|\n",
      "+-------+----------------+----------+----------------------------------+----------+\n",
      "|1TS9   |Celina          |TX        |Four Winds Airport                |1TS9      |\n",
      "|US-0389|Del Rio         |TX        |Indianhead Ranch Airport          |1TS9      |\n",
      "|6XS8   |Sanger          |TX        |Vultures Row Airport              |6X8       |\n",
      "|US-0311|Sangar          |TX        |Vultures Row                      |6X8       |\n",
      "|FHB    |Fernandina Beach|FL        |Fernandina Beach Muni Airport     |FHB       |\n",
      "|K55J   |Fernandina Beach|FL        |Fernandina Beach Municipal Airport|FHB       |\n",
      "|US-0308|Avalon          |CA        |Pebbly Beach Seaplane Base Helipad|L11       |\n",
      "|L11    |Avalon          |CA        |Pebbly Beach Seaplane Base        |L11       |\n",
      "|LL69   |Ridott          |IL        |Cambier Airport                   |LL69      |\n",
      "|US-0167|Ramsey          |IL        |Brewer Airport                    |LL69      |\n",
      "+-------+----------------+----------+----------------------------------+----------+\n",
      "\n"
     ]
    }
   ],
   "source": [
    "airports.select('id', 'city', 'state_code', 'name', 'local_code') \\\n",
    "        .where('local_code in (\"LL69\", \"1TS9\", \"FHB\", \"6X8\", \"L11\")') \\\n",
    "        .sort('local_code').show(10, False)"
   ]
  },
  {
   "cell_type": "markdown",
   "metadata": {
    "editable": true
   },
   "source": [
    "Airports having the local code:"
   ]
  },
  {
   "cell_type": "code",
   "execution_count": 46,
   "metadata": {
    "editable": true
   },
   "outputs": [
    {
     "name": "stdout",
     "output_type": "stream",
     "text": [
      "21236 out of 22757 airports (93.32%) have the local code.\n"
     ]
    }
   ],
   "source": [
    "airports_l = airports.where('local_code is not null') \\\n",
    "                     .select('id', 'city', 'state_code') \\\n",
    "                     .distinct().count()\n",
    "\n",
    "print(f'{airports_l} out of {airport_cnt} airports ({(100 * airports_l / airport_cnt):.2f}%) have the local code.')"
   ]
  },
  {
   "cell_type": "markdown",
   "metadata": {
    "editable": true
   },
   "source": [
    "Airports with duplicating local codes:"
   ]
  },
  {
   "cell_type": "code",
   "execution_count": 47,
   "metadata": {
    "editable": true
   },
   "outputs": [
    {
     "name": "stdout",
     "output_type": "stream",
     "text": [
      "132 out of 21236 airports (0.62%) have duplicating local code.\n"
     ]
    }
   ],
   "source": [
    "airports_d = airports.where('local_code is not null') \\\n",
    "                     .groupBy('local_code') \\\n",
    "                     .count().where('count > 1') \\\n",
    "                     .agg(f.sum('count')).first()[0]\n",
    "print(f'{airports_d} out of {airports_l} airports ({(100 * airports_d / airports_l):.2f}%) have duplicating local code.')"
   ]
  },
  {
   "cell_type": "markdown",
   "metadata": {
    "editable": true
   },
   "source": [
    "The duplicating local code problem is not of a big scale, however it is complex: we have some clearly duplicating records, but as well some airports with the same local code. I cannot think of a code to fix it so far."
   ]
  },
  {
   "cell_type": "markdown",
   "metadata": {
    "editable": true
   },
   "source": [
    "Local code is a close match to arrival port by air, still the data quality is poor:\n",
    "1. Local codes missing for some airports\n",
    "1. Immigration data using three letter city codes instead of airport codes\n",
    "1. Airports with duplicating records and duplicating local codes"
   ]
  },
  {
   "cell_type": "markdown",
   "metadata": {
    "editable": true
   },
   "source": [
    "#### 1.4.2 Match Airport to City\n",
    "Let's check how airports connect with cities. How many airports do not match to cities in cities dempgraphics?"
   ]
  },
  {
   "cell_type": "code",
   "execution_count": 48,
   "metadata": {
    "editable": true
   },
   "outputs": [
    {
     "name": "stdout",
     "output_type": "stream",
     "text": [
      "18538 out of 22757 airports (81.46%) don't match cities.\n"
     ]
    }
   ],
   "source": [
    "airports_c = airports.where('local_code is not null') \\\n",
    "                     .select('id', 'city', 'state_code')\n",
    "cities = citydem.select('city', 'state_code').distinct()\n",
    "\n",
    "no_match_cnt = airports_c \\\n",
    "    .join(cities,\n",
    "          (airports_c.city == cities.city) &\n",
    "          (airports_c.state_code == cities.state_code),\n",
    "          how = 'left_anti') \\\n",
    "    .count()\n",
    "\n",
    "print(f'{no_match_cnt} out of {airport_cnt} airports ({(100 * no_match_cnt / airport_cnt):.2f}%) don\\'t match cities.')"
   ]
  },
  {
   "cell_type": "markdown",
   "metadata": {
    "editable": true
   },
   "source": [
    "Connection between cities and airports does not have much value."
   ]
  },
  {
   "cell_type": "markdown",
   "metadata": {
    "editable": true
   },
   "source": [
    "### 1.5 World Temperature Data\n",
    "This dataset came from [Kaggle](https://www.kaggle.com/berkeleyearth/climate-change-earth-surface-temperature-data). Since the immigration data is only available at the state level of detail, we'll use temperatures by state also here."
   ]
  },
  {
   "cell_type": "code",
   "execution_count": 49,
   "metadata": {
    "editable": true
   },
   "outputs": [
    {
     "name": "stdout",
     "output_type": "stream",
     "text": [
      "root\n",
      " |-- dt: timestamp (nullable = true)\n",
      " |-- AverageTemperature: double (nullable = true)\n",
      " |-- AverageTemperatureUncertainty: double (nullable = true)\n",
      " |-- State: string (nullable = true)\n",
      " |-- Country: string (nullable = true)\n",
      "\n"
     ]
    }
   ],
   "source": [
    "wtd = spark.read.csv('dimension_data/WTD-By-State.csv',\n",
    "                     sep = ',',\n",
    "                     inferSchema = True, header = True)\n",
    "wtd.printSchema()"
   ]
  },
  {
   "cell_type": "code",
   "execution_count": 50,
   "metadata": {
    "editable": true
   },
   "outputs": [
    {
     "data": {
      "image/png": "[encoded data removed]",
      "text/plain": [
       "<matplotlib.figure.Figure at 0x7f0aec5eacf8>"
      ]
     },
     "metadata": {
      "needs_background": "light"
     },
     "output_type": "display_data"
    }
   ],
   "source": [
    "h.plot_top(wtd, 'Country')"
   ]
  },
  {
   "cell_type": "code",
   "execution_count": 51,
   "metadata": {
    "editable": true
   },
   "outputs": [],
   "source": [
    "wtd = wtd.where('Country = \"United States\"').drop('Country')"
   ]
  },
  {
   "cell_type": "code",
   "execution_count": 52,
   "metadata": {
    "editable": true
   },
   "outputs": [
    {
     "data": {
      "image/png": "[encoded data removed]",
      "text/plain": [
       "<matplotlib.figure.Figure at 0x7f0aec6182b0>"
      ]
     },
     "metadata": {
      "needs_background": "light"
     },
     "output_type": "display_data"
    }
   ],
   "source": [
    "h.plot_present(wtd)"
   ]
  },
  {
   "cell_type": "markdown",
   "metadata": {
    "editable": true
   },
   "source": [
    "Rename columns"
   ]
  },
  {
   "cell_type": "code",
   "execution_count": 53,
   "metadata": {
    "editable": true
   },
   "outputs": [],
   "source": [
    "wtd = wtd \\\n",
    "    .withColumn(       'date',                          wtd.dt.cast(DateType())) \\\n",
    "    .withColumnRenamed('AverageTemperature',            'temp_avg') \\\n",
    "    .withColumnRenamed('AverageTemperatureUncertainty', 'temp_unc') \\\n",
    "    .withColumnRenamed('State',                         'state')"
   ]
  },
  {
   "cell_type": "markdown",
   "metadata": {
    "editable": true
   },
   "source": [
    "Let's check whether the temperature data covers the time period of our immigration data."
   ]
  },
  {
   "cell_type": "code",
   "execution_count": 54,
   "metadata": {
    "editable": true
   },
   "outputs": [
    {
     "name": "stdout",
     "output_type": "stream",
     "text": [
      "+----------------+----------------+\n",
      "|min(arrive_date)|max(arrive_date)|\n",
      "+----------------+----------------+\n",
      "|      2016-04-01|      2016-04-30|\n",
      "+----------------+----------------+\n",
      "\n"
     ]
    }
   ],
   "source": [
    "i94data.select(f.min('arrive_date'), f.max('arrive_date')).show()"
   ]
  },
  {
   "cell_type": "code",
   "execution_count": 55,
   "metadata": {
    "editable": true
   },
   "outputs": [
    {
     "name": "stdout",
     "output_type": "stream",
     "text": [
      "+----------+----------+\n",
      "| min(date)| max(date)|\n",
      "+----------+----------+\n",
      "|1743-11-01|2013-09-01|\n",
      "+----------+----------+\n",
      "\n"
     ]
    }
   ],
   "source": [
    "wtd.select(f.min('date'), f.max('date')).show()"
   ]
  },
  {
   "cell_type": "markdown",
   "metadata": {
    "editable": true
   },
   "source": [
    "Surprisingly for 2021, the Kaggle dataset ends in 2013. I don't see a lot of value in using the temperature data when in does not match in time with our fact data."
   ]
  },
  {
   "cell_type": "markdown",
   "metadata": {
    "editable": true
   },
   "source": [
    "## 2 Define the Data Model\n",
    "### 2.1 Conceptual Data Model\n",
    "#### 2.1.1 Fact: Immigration"
   ]
  },
  {
   "cell_type": "code",
   "execution_count": 56,
   "metadata": {
    "editable": true
   },
   "outputs": [
    {
     "name": "stdout",
     "output_type": "stream",
     "text": [
      "root\n",
      " |-- i94_id: integer (nullable = true)\n",
      " |-- arrive_year: integer (nullable = true)\n",
      " |-- arrive_month: integer (nullable = true)\n",
      " |-- pers_country_birth: integer (nullable = true)\n",
      " |-- pers_country_resid: integer (nullable = true)\n",
      " |-- arrive_port: string (nullable = true)\n",
      " |-- arrive_date: date (nullable = true)\n",
      " |-- arrive_by: string (nullable = true)\n",
      " |-- arrive_to_state: string (nullable = true)\n",
      " |-- depart_date: date (nullable = true)\n",
      " |-- pers_age: integer (nullable = true)\n",
      " |-- visa: string (nullable = true)\n",
      " |-- visa_issued: string (nullable = true)\n",
      " |-- arrive_flag: string (nullable = true)\n",
      " |-- depart_flag: string (nullable = true)\n",
      " |-- match_flag: string (nullable = true)\n",
      " |-- pers_birth_year: integer (nullable = true)\n",
      " |-- allow_stay_until: string (nullable = true)\n",
      " |-- pers_gender: string (nullable = true)\n",
      " |-- arrive_airline: string (nullable = true)\n",
      " |-- admission_number: double (nullable = true)\n",
      " |-- arrive_flight: string (nullable = true)\n",
      " |-- visa_type: string (nullable = true)\n",
      "\n"
     ]
    }
   ],
   "source": [
    "i94data.printSchema()"
   ]
  },
  {
   "cell_type": "markdown",
   "metadata": {
    "editable": true
   },
   "source": [
    "The fact table is already in a good shape. We can separate a `date` dimension based on `arrive_date` *and* `depart_date` and keep columns `arrive_year` and `arrive_month` for partitioning.\n",
    "\n",
    "#### 2.1.2 Dimension: Date"
   ]
  },
  {
   "cell_type": "code",
   "execution_count": 57,
   "metadata": {
    "editable": true
   },
   "outputs": [
    {
     "data": {
      "text/plain": [
       "236"
      ]
     },
     "execution_count": 57,
     "metadata": {},
     "output_type": "execute_result"
    }
   ],
   "source": [
    "date = i94data \\\n",
    "    .selectExpr('arrive_date as date').distinct() \\\n",
    "    .union(i94data.selectExpr('depart_date as date').distinct()) \\\n",
    "    .distinct() \\\n",
    "    .withColumn('year',    f.year('date')) \\\n",
    "    .withColumn('month',   f.month('date')) \\\n",
    "    .withColumn('week',    f.weekofyear('date')) \\\n",
    "    .withColumn('day',     f.dayofmonth('date')) \\\n",
    "    .withColumn('weekday', f.dayofweek('date'))\n",
    "\n",
    "date.count()"
   ]
  },
  {
   "cell_type": "markdown",
   "metadata": {
    "editable": true
   },
   "source": [
    "Check duplicates:"
   ]
  },
  {
   "cell_type": "code",
   "execution_count": 58,
   "metadata": {
    "editable": true
   },
   "outputs": [
    {
     "name": "stdout",
     "output_type": "stream",
     "text": [
      "+----+-----+\n",
      "|date|count|\n",
      "+----+-----+\n",
      "+----+-----+\n",
      "\n"
     ]
    }
   ],
   "source": [
    "date.groupBy('date').count().where('count > 1').show(10)"
   ]
  },
  {
   "cell_type": "markdown",
   "metadata": {
    "editable": true
   },
   "source": [
    "Check boundaries, mind the depart date is included, see section 1.1.4"
   ]
  },
  {
   "cell_type": "code",
   "execution_count": 59,
   "metadata": {
    "editable": true
   },
   "outputs": [
    {
     "name": "stdout",
     "output_type": "stream",
     "text": [
      "+----------+----------+\n",
      "| min(date)| max(date)|\n",
      "+----------+----------+\n",
      "|2001-07-20|2084-05-16|\n",
      "+----------+----------+\n",
      "\n"
     ]
    }
   ],
   "source": [
    "date.select(f.min('date'), f.max('date')).show()"
   ]
  },
  {
   "cell_type": "markdown",
   "metadata": {
    "editable": true
   },
   "source": [
    "#### 2.1.3 Dimension: Countries"
   ]
  },
  {
   "cell_type": "code",
   "execution_count": 60,
   "metadata": {
    "editable": true
   },
   "outputs": [
    {
     "name": "stdout",
     "output_type": "stream",
     "text": [
      "root\n",
      " |-- id: integer (nullable = true)\n",
      " |-- name: string (nullable = true)\n",
      "\n"
     ]
    }
   ],
   "source": [
    "countries.printSchema()"
   ]
  },
  {
   "cell_type": "markdown",
   "metadata": {
    "editable": true
   },
   "source": [
    "Countries dimension is complete. The fact table links to it with `pers_country_birth` and `pers_country_resid`.\n",
    "\n",
    "#### 2.1.4 Dimension: States"
   ]
  },
  {
   "cell_type": "code",
   "execution_count": 61,
   "metadata": {
    "editable": true
   },
   "outputs": [
    {
     "name": "stdout",
     "output_type": "stream",
     "text": [
      "root\n",
      " |-- city: string (nullable = true)\n",
      " |-- state: string (nullable = true)\n",
      " |-- age_median: double (nullable = true)\n",
      " |-- pop_male: integer (nullable = true)\n",
      " |-- pop_female: integer (nullable = true)\n",
      " |-- pop_total: integer (nullable = true)\n",
      " |-- pop_veteran: integer (nullable = true)\n",
      " |-- pop_foreign_born: integer (nullable = true)\n",
      " |-- avg_household_size: double (nullable = true)\n",
      " |-- state_code: string (nullable = true)\n",
      " |-- race: string (nullable = true)\n",
      " |-- race_count: integer (nullable = true)\n",
      "\n"
     ]
    }
   ],
   "source": [
    "citydem.printSchema()"
   ]
  },
  {
   "cell_type": "markdown",
   "metadata": {
    "editable": true
   },
   "source": [
    "In the fact table, the arrival destination information is limited to state, see `arrive_to_state`. Demographics on the state level rather than the city level would be sufficient in this case. First, let's aggregate based on state without race:"
   ]
  },
  {
   "cell_type": "code",
   "execution_count": 62,
   "metadata": {
    "editable": true
   },
   "outputs": [
    {
     "name": "stdout",
     "output_type": "stream",
     "text": [
      "+--------+----------+--------+----------+---------+-----------+----------------+\n",
      "|   state|state_code|pop_male|pop_female|pop_total|pop_veteran|pop_foreign_born|\n",
      "+--------+----------+--------+----------+---------+-----------+----------------+\n",
      "|Missouri|        MO| 3666310|   3929660|  7595970|     457265|          495475|\n",
      "+--------+----------+--------+----------+---------+-----------+----------------+\n",
      "\n"
     ]
    }
   ],
   "source": [
    "states = citydem \\\n",
    "    .groupBy('state', 'state_code') \\\n",
    "    .agg(f.sum('pop_male').alias('pop_male'),\n",
    "         f.sum('pop_female').alias('pop_female'),\n",
    "         f.sum('pop_total').alias('pop_total'),\n",
    "         f.sum('pop_veteran').alias('pop_veteran'),\n",
    "         f.sum('pop_foreign_born').alias('pop_foreign_born'))\n",
    "\n",
    "states.where('state = \"Missouri\"').show()"
   ]
  },
  {
   "cell_type": "markdown",
   "metadata": {
    "editable": true
   },
   "source": [
    "Note that the age median and the average household size cannot be accurately aggregated from cities:\n",
    "* Median can be approximated as median of the city medians, still inaccurate;\n",
    "* For the state average household size we don't know the quantity of households.\n",
    "\n",
    "We can also have race counts aggregated per state:\n",
    "\n",
    "#### 2.1.5 Dimension: State Race Counts\n",
    "We have the state name also here to skip join with `states` when the race counts are used."
   ]
  },
  {
   "cell_type": "code",
   "execution_count": 63,
   "metadata": {
    "editable": true
   },
   "outputs": [
    {
     "name": "stdout",
     "output_type": "stream",
     "text": [
      "+--------+----------+--------------------+----------+\n",
      "|   state|state_code|                race|race_count|\n",
      "+--------+----------+--------------------+----------+\n",
      "|Missouri|        MO|American Indian a...|     18550|\n",
      "|Missouri|        MO|               Asian|     55349|\n",
      "|Missouri|        MO|Black or African-...|    360720|\n",
      "|Missouri|        MO|               White|   1085809|\n",
      "|Missouri|        MO|  Hispanic or Latino|     99147|\n",
      "+--------+----------+--------------------+----------+\n",
      "\n"
     ]
    }
   ],
   "source": [
    "state_race_counts = citydem \\\n",
    "    .groupBy('state', 'state_code', 'race') \\\n",
    "    .agg(f.sum('race_count').alias('race_count'))\n",
    "\n",
    "state_race_counts.where('state = \"Missouri\"').show()"
   ]
  },
  {
   "cell_type": "markdown",
   "metadata": {
    "editable": true
   },
   "source": [
    "Note that the race counts don't sum up to the total population on the city level already, so we don't expect this per state either.\n",
    "\n",
    "#### 2.1.6 Dimension: Airports"
   ]
  },
  {
   "cell_type": "code",
   "execution_count": 64,
   "metadata": {
    "editable": true
   },
   "outputs": [
    {
     "name": "stdout",
     "output_type": "stream",
     "text": [
      "root\n",
      " |-- id: string (nullable = true)\n",
      " |-- type: string (nullable = true)\n",
      " |-- name: string (nullable = true)\n",
      " |-- elevation_ft: integer (nullable = true)\n",
      " |-- city: string (nullable = true)\n",
      " |-- gps_code: string (nullable = true)\n",
      " |-- local_code: string (nullable = true)\n",
      " |-- state_code: string (nullable = true)\n",
      " |-- lat: float (nullable = true)\n",
      " |-- long: float (nullable = true)\n",
      "\n"
     ]
    }
   ],
   "source": [
    "airports.printSchema()"
   ]
  },
  {
   "cell_type": "markdown",
   "metadata": {
    "editable": true
   },
   "source": [
    "Airports dimension is complete. The `local_code` links to the fact table attribute `arrive_port`, see section 1.4.1 above."
   ]
  },
  {
   "cell_type": "markdown",
   "metadata": {
    "editable": true
   },
   "source": [
    "### 2.2 Further Steps\n",
    "* Data model diagram, see `README.md`\n",
    "* Data dictionary, see `data_dictionary.md`\n",
    "* Notebook `etl_test.ipynb` maps and implements the ETL pipeline"
   ]
  },
  {
   "cell_type": "code",
   "execution_count": null,
   "metadata": {
    "editable": true
   },
   "outputs": [],
   "source": []
  }
 ],
 "metadata": {
  "kernelspec": {
   "display_name": "Python 3",
   "language": "python",
   "name": "python3"
  },
  "language_info": {
   "codemirror_mode": {
    "name": "ipython",
    "version": 3
   },
   "file_extension": ".py",
   "mimetype": "text/x-python",
   "name": "python",
   "nbconvert_exporter": "python",
   "pygments_lexer": "ipython3",
   "version": "3.6.3"
  }
 },
 "nbformat": 4,
 "nbformat_minor": 4
}
