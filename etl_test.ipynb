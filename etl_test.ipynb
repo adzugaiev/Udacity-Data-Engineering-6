{
 "cells": [
  {
   "cell_type": "markdown",
   "metadata": {
    "editable": true
   },
   "source": [
    "# Immigration Data Warehouse\n",
    "### Data Engineering Capstone Project\n",
    "## 2 Mapping & Implementing the Data Pipelines\n",
    "This notebook implements the ETL data pipelines for the immigration data warehouse. The pipelines are based on the data model identified in `explore_data.ipynb` and described in `data_dictionary.md`. ETL plan:\n",
    "\n",
    "1. Fact: Immigration Data\n",
    "1. Dimension: Date\n",
    "1. Dimension: Countries\n",
    "1. Dimensions: States & State Race Counts\n",
    "1. Dimension: Airports\n",
    "1. Data Quality Checks\n",
    "\n",
    "Project write-up past the data pipelines is completed in `README.md`."
   ]
  },
  {
   "cell_type": "code",
   "execution_count": 1,
   "metadata": {
    "editable": true
   },
   "outputs": [],
   "source": [
    "from pyspark.sql import SparkSession\n",
    "from pyspark.sql.types import IntegerType, DateType\n",
    "import pyspark.sql.functions as f\n",
    "import helper as h"
   ]
  },
  {
   "cell_type": "code",
   "execution_count": 2,
   "metadata": {
    "editable": true
   },
   "outputs": [],
   "source": [
    "spark = SparkSession.builder \\\n",
    "        .config('spark.jars.packages', 'org.apache.hadoop:hadoop-aws:2.7.5') \\\n",
    "        .getOrCreate()\n",
    "output_folder = 'output_data/'"
   ]
  },
  {
   "cell_type": "markdown",
   "metadata": {
    "editable": true
   },
   "source": [
    "### 2.1 Fact: Immigration Data\n",
    "\n",
    "This data comes from the [US National Tourism and Trade Office](https://travel.trade.gov/research/reports/i94/historical/2016.html). A data dictionary is included in the workspace."
   ]
  },
  {
   "cell_type": "code",
   "execution_count": 3,
   "metadata": {
    "editable": true
   },
   "outputs": [],
   "source": [
    "i94data = spark.read.parquet('i94_data')"
   ]
  },
  {
   "cell_type": "code",
   "execution_count": 4,
   "metadata": {
    "editable": true,
    "toggleable": true,
    "ulab": {
     "buttons": {
      "ulab-button-toggle-a92db465": {
       "bashCommand": "",
       "filesToOpen": [],
       "isPreviewButton": false,
       "runInBackground": false,
       "style": "primary",
       "text": "",
       "toggleOffText": "Rename Columns",
       "toggleOnText": "Rename Columns"
      }
     }
    }
   },
   "outputs": [],
   "source": [
    "i94data = i94data \\\n",
    "    .withColumnRenamed('cicid',    'i94_id') \\\n",
    "    .withColumnRenamed('arrdate',  'arrive_date') \\\n",
    "    .withColumnRenamed('i94yr',    'arrive_year') \\\n",
    "    .withColumnRenamed('i94mon',   'arrive_month') \\\n",
    "    .withColumnRenamed('i94port',  'arrive_port') \\\n",
    "    .withColumnRenamed('i94mode',  'arrive_by') \\\n",
    "    .withColumnRenamed('airline',  'arrive_airline') \\\n",
    "    .withColumnRenamed('fltno',    'arrive_flight') \\\n",
    "    .withColumnRenamed('entdepa',  'arrive_flag') \\\n",
    "    .withColumnRenamed('i94addr',  'arrive_to_state') \\\n",
    "    .withColumnRenamed('i94cit',   'pers_country_birth') \\\n",
    "    .withColumnRenamed('i94res',   'pers_country_resid') \\\n",
    "    .withColumnRenamed('biryear',  'pers_birth_year') \\\n",
    "    .withColumnRenamed('i94bir',   'pers_age') \\\n",
    "    .withColumnRenamed('occup',    'pers_occupation') \\\n",
    "    .withColumnRenamed('gender',   'pers_gender') \\\n",
    "    .withColumnRenamed('insnum',   'pers_ins_number')  \\\n",
    "    .withColumnRenamed('i94visa',  'visa') \\\n",
    "    .withColumnRenamed('visapost', 'visa_issued') \\\n",
    "    .withColumnRenamed('visatype', 'visa_type') \\\n",
    "    .withColumnRenamed('dtaddto',  'allow_stay_until') \\\n",
    "    .withColumnRenamed('entdepd',  'depart_flag') \\\n",
    "    .withColumnRenamed('depdate',  'depart_date') \\\n",
    "    .withColumnRenamed('count',    'cnt') \\\n",
    "    .withColumnRenamed('dtadfile', 'char_date') \\\n",
    "    .withColumnRenamed('entdepu',  'update_flag') \\\n",
    "    .withColumnRenamed('matflag',  'match_flag') \\\n",
    "    .withColumnRenamed('admnum',   'admission_number')"
   ]
  },
  {
   "cell_type": "markdown",
   "metadata": {
    "editable": true
   },
   "source": [
    "Drop columns"
   ]
  },
  {
   "cell_type": "code",
   "execution_count": 5,
   "metadata": {
    "editable": true
   },
   "outputs": [],
   "source": [
    "i94data = i94data.drop('cnt', 'pers_ins_number', 'pers_occupation', 'update_flag', 'char_date')"
   ]
  },
  {
   "cell_type": "markdown",
   "metadata": {
    "editable": true
   },
   "source": [
    "Type conversions"
   ]
  },
  {
   "cell_type": "code",
   "execution_count": 7,
   "metadata": {
    "editable": true
   },
   "outputs": [],
   "source": [
    "i94data = i94data \\\n",
    "    .withColumn('i94_id',             i94data.i94_id.cast(IntegerType())) \\\n",
    "    .withColumn('arrive_date',        h.udf_date(i94data.arrive_date)) \\\n",
    "    .withColumn('arrive_month',       i94data.arrive_month.cast(IntegerType())) \\\n",
    "    .withColumn('arrive_year',        i94data.arrive_year.cast(IntegerType())) \\\n",
    "    .withColumn('pers_age',           i94data.pers_age.cast(IntegerType())) \\\n",
    "    .withColumn('pers_birth_year',    i94data.pers_birth_year.cast(IntegerType())) \\\n",
    "    .withColumn('pers_country_birth', i94data.pers_country_birth.cast(IntegerType())) \\\n",
    "    .withColumn('pers_country_resid', i94data.pers_country_resid.cast(IntegerType())) \\\n",
    "    .withColumn('depart_date',        h.udf_date(i94data.depart_date)) \\\n",
    "    .withColumn('arrive_by',          h.udf_arrive_by(i94data.arrive_by)) \\\n",
    "    .withColumn('visa',               h.udf_visa(i94data.visa))"
   ]
  },
  {
   "cell_type": "markdown",
   "metadata": {
    "editable": true
   },
   "source": [
    "Write"
   ]
  },
  {
   "cell_type": "code",
   "execution_count": 8,
   "metadata": {
    "editable": true
   },
   "outputs": [],
   "source": [
    "i94data.write.parquet(output_folder + 'i94data',\n",
    "                      partitionBy = ['arrive_year', 'arrive_month'],\n",
    "                      mode = 'overwrite')"
   ]
  },
  {
   "cell_type": "markdown",
   "metadata": {
    "editable": true
   },
   "source": [
    "### 2.2 Dimension: Date\n",
    "Separate a `date` dimension based on `arrive_date` *and* `depart_date` and keep columns `arrive_year` and `arrive_month` for partitioning."
   ]
  },
  {
   "cell_type": "code",
   "execution_count": 18,
   "metadata": {
    "editable": true
   },
   "outputs": [],
   "source": [
    "date = i94data \\\n",
    "    .selectExpr('arrive_date as date').distinct() \\\n",
    "    .union(i94data.selectExpr('depart_date as date').distinct()) \\\n",
    "    .distinct() \\\n",
    "    .where('date is not null') \\\n",
    "    .withColumn('year',    f.year('date')) \\\n",
    "    .withColumn('month',   f.month('date')) \\\n",
    "    .withColumn('week',    f.weekofyear('date')) \\\n",
    "    .withColumn('day',     f.dayofmonth('date')) \\\n",
    "    .withColumn('weekday', f.dayofweek('date'))"
   ]
  },
  {
   "cell_type": "markdown",
   "metadata": {
    "editable": true
   },
   "source": [
    "Write"
   ]
  },
  {
   "cell_type": "code",
   "execution_count": 19,
   "metadata": {
    "editable": true
   },
   "outputs": [],
   "source": [
    "date.write.parquet(output_folder + 'date',\n",
    "                   partitionBy = ['year', 'month'],\n",
    "                   mode = 'overwrite')"
   ]
  },
  {
   "cell_type": "markdown",
   "metadata": {
    "editable": true
   },
   "source": [
    "### 2.3 Dimension: Countries\n",
    "Having integer ids for countries is not sufficient, so I made `I94Countries.csv` based on labels descriptions."
   ]
  },
  {
   "cell_type": "code",
   "execution_count": 9,
   "metadata": {
    "editable": true
   },
   "outputs": [],
   "source": [
    "countries = spark.read.csv('dimension_data/I94Countries.csv',\n",
    "                           sep = ';',\n",
    "                           inferSchema = True, header = True)"
   ]
  },
  {
   "cell_type": "markdown",
   "metadata": {
    "editable": true
   },
   "source": [
    "Strip quotes from names"
   ]
  },
  {
   "cell_type": "code",
   "execution_count": 10,
   "metadata": {
    "editable": true
   },
   "outputs": [],
   "source": [
    "countries = countries.withColumn('name', h.udf_strip_quotes('name'))"
   ]
  },
  {
   "cell_type": "markdown",
   "metadata": {
    "editable": true
   },
   "source": [
    "Nonexistent countries from the fact data:"
   ]
  },
  {
   "cell_type": "code",
   "execution_count": 12,
   "metadata": {
    "editable": true
   },
   "outputs": [],
   "source": [
    "ne_countries = i94data \\\n",
    "    .join(countries,\n",
    "          (i94data.pers_country_birth == countries.id),\n",
    "          how = 'left_anti') \\\n",
    "    .groupBy('pers_country_birth') \\\n",
    "    .count().sort(f.desc('count'))"
   ]
  },
  {
   "cell_type": "code",
   "execution_count": 13,
   "metadata": {
    "editable": true
   },
   "outputs": [
    {
     "name": "stdout",
     "output_type": "stream",
     "text": [
      "289 countries original, append with\n",
      "30 countries nonexistent:\n",
      "319 countries total.\n"
     ]
    }
   ],
   "source": [
    "print(f'{countries.count()} countries original, append with')\n",
    "print(f'{ne_countries.count()} countries nonexistent:')\n",
    "\n",
    "countries = countries \\\n",
    "    .union(ne_countries \\\n",
    "           .withColumnRenamed('pers_country_birth', 'id') \\\n",
    "           .withColumn('name', h.udf_name_ne('id')) \\\n",
    "           .drop('count'))\n",
    "\n",
    "print(f'{countries.count()} countries total.')"
   ]
  },
  {
   "cell_type": "markdown",
   "metadata": {
    "editable": true
   },
   "source": [
    "Write"
   ]
  },
  {
   "cell_type": "code",
   "execution_count": 14,
   "metadata": {
    "editable": true
   },
   "outputs": [],
   "source": [
    "countries.write.parquet(output_folder + 'countries', mode = 'overwrite')"
   ]
  },
  {
   "cell_type": "markdown",
   "metadata": {
    "editable": true
   },
   "source": [
    "### 2.4 Dimensions: States & State Race Counts\n",
    "This data comes [from OpenSoft](https://public.opendatasoft.com/explore/dataset/us-cities-demographics/export/)."
   ]
  },
  {
   "cell_type": "code",
   "execution_count": 20,
   "metadata": {
    "editable": true
   },
   "outputs": [],
   "source": [
    "citydem = spark.read.csv('dimension_data/us-cities-demographics.csv',\n",
    "                         sep = ';',\n",
    "                         inferSchema = True, header = True)"
   ]
  },
  {
   "cell_type": "markdown",
   "metadata": {
    "editable": true
   },
   "source": [
    "In the target DWH model, demographics will be normalized by splitting races and race counts into a separate table."
   ]
  },
  {
   "cell_type": "markdown",
   "metadata": {
    "editable": true
   },
   "source": [
    "Let's rename columns to remove spaces:"
   ]
  },
  {
   "cell_type": "code",
   "execution_count": 21,
   "metadata": {
    "editable": true,
    "toggleable": true,
    "ulab": {
     "buttons": {
      "ulab-button-toggle-d5778e0d": {
       "bashCommand": "",
       "filesToOpen": [],
       "isPreviewButton": false,
       "runInBackground": false,
       "style": "primary",
       "text": "",
       "toggleOffText": "Rename Columns",
       "toggleOnText": "Rename Columns"
      }
     }
    }
   },
   "outputs": [],
   "source": [
    "citydem = citydem \\\n",
    "    .withColumnRenamed('City',                   'city') \\\n",
    "    .withColumnRenamed('State',                  'state') \\\n",
    "    .withColumnRenamed('Median Age',             'age_median') \\\n",
    "    .withColumnRenamed('Male Population',        'pop_male') \\\n",
    "    .withColumnRenamed('Female Population',      'pop_female') \\\n",
    "    .withColumnRenamed('Total Population',       'pop_total') \\\n",
    "    .withColumnRenamed('Number of Veterans',     'pop_veteran') \\\n",
    "    .withColumnRenamed('Foreign-born',           'pop_foreign_born') \\\n",
    "    .withColumnRenamed('Average Household Size', 'avg_household_size') \\\n",
    "    .withColumnRenamed('State Code',             'state_code') \\\n",
    "    .withColumnRenamed('Race',                   'race') \\\n",
    "    .withColumnRenamed('Count',                  'race_count')"
   ]
  },
  {
   "cell_type": "markdown",
   "metadata": {
    "editable": true
   },
   "source": [
    "#### 2.4.1 States\n",
    "In the fact table, the arrival destination information is limited to state, see `arrive_to_state`. Demographics on the state level rather than the city level would be sufficient in this case. First, let's aggregate based on state without race:"
   ]
  },
  {
   "cell_type": "code",
   "execution_count": 22,
   "metadata": {
    "editable": true
   },
   "outputs": [],
   "source": [
    "states = citydem \\\n",
    "    .groupBy('state', 'state_code') \\\n",
    "    .agg(f.sum('pop_male').alias('pop_male'),\n",
    "         f.sum('pop_female').alias('pop_female'),\n",
    "         f.sum('pop_total').alias('pop_total'),\n",
    "         f.sum('pop_veteran').alias('pop_veteran'),\n",
    "         f.sum('pop_foreign_born').alias('pop_foreign_born'))"
   ]
  },
  {
   "cell_type": "markdown",
   "metadata": {
    "editable": true
   },
   "source": [
    "Write"
   ]
  },
  {
   "cell_type": "code",
   "execution_count": 23,
   "metadata": {
    "editable": true
   },
   "outputs": [],
   "source": [
    "states.write.parquet(output_folder + 'states', mode = 'overwrite')"
   ]
  },
  {
   "cell_type": "markdown",
   "metadata": {
    "editable": true
   },
   "source": [
    "#### 2.4.2 State Race Counts\n",
    "We have the state name also here to skip join with `states` when the race counts are used."
   ]
  },
  {
   "cell_type": "code",
   "execution_count": 24,
   "metadata": {
    "editable": true
   },
   "outputs": [],
   "source": [
    "state_race_counts = citydem \\\n",
    "    .groupBy('state', 'state_code', 'race') \\\n",
    "    .agg(f.sum('race_count').alias('race_count'))"
   ]
  },
  {
   "cell_type": "markdown",
   "metadata": {
    "editable": true
   },
   "source": [
    "Write"
   ]
  },
  {
   "cell_type": "code",
   "execution_count": 25,
   "metadata": {
    "editable": true
   },
   "outputs": [],
   "source": [
    "state_race_counts.write.parquet(output_folder + 'state_race_counts', mode = 'overwrite')"
   ]
  },
  {
   "cell_type": "markdown",
   "metadata": {
    "editable": true
   },
   "source": [
    "### 2.5 Dimension: Airports\n",
    "This is a simple table of airport codes and corresponding cities. It comes from [here](https://datahub.io/core/airport-codes#data)."
   ]
  },
  {
   "cell_type": "code",
   "execution_count": 27,
   "metadata": {
    "editable": true
   },
   "outputs": [],
   "source": [
    "airports = spark.read.csv('dimension_data/airport-codes.csv',\n",
    "                          sep = ',',\n",
    "                          inferSchema = True, header = True)            "
   ]
  },
  {
   "cell_type": "markdown",
   "metadata": {
    "editable": true
   },
   "source": [
    "Renaming and value conversions"
   ]
  },
  {
   "cell_type": "code",
   "execution_count": 28,
   "metadata": {
    "editable": true
   },
   "outputs": [],
   "source": [
    "airports = airports \\\n",
    "    .where('iso_country = \"US\"') \\\n",
    "    .withColumnRenamed('ident',        'id') \\\n",
    "    .withColumn(       'state_code',   h.udf_state('iso_region')) \\\n",
    "    .withColumnRenamed('municipality', 'city') \\\n",
    "    .withColumn(       'lat',          h.udf_lat('coordinates')) \\\n",
    "    .withColumn(       'long',         h.udf_long('coordinates')) \\\n",
    "    .drop('continent', 'iso_country', 'iata_code', 'coordinates', 'iso_region')   "
   ]
  },
  {
   "cell_type": "markdown",
   "metadata": {
    "editable": true
   },
   "source": [
    "Write"
   ]
  },
  {
   "cell_type": "code",
   "execution_count": 29,
   "metadata": {
    "editable": true
   },
   "outputs": [],
   "source": [
    "airports.write.parquet(output_folder + 'airports', mode = 'overwrite')"
   ]
  },
  {
   "cell_type": "markdown",
   "metadata": {
    "editable": true
   },
   "source": [
    "### 2.6 Data Quality Checks\n",
    "#### 2.6.1 Fact: Immigration"
   ]
  },
  {
   "cell_type": "markdown",
   "metadata": {
    "editable": true
   },
   "source": [
    "Check missing and duplicate IDs"
   ]
  },
  {
   "cell_type": "code",
   "execution_count": 31,
   "metadata": {
    "editable": true
   },
   "outputs": [
    {
     "name": "stdout",
     "output_type": "stream",
     "text": [
      "+------+-----+\n",
      "|i94_id|count|\n",
      "+------+-----+\n",
      "+------+-----+\n",
      "\n"
     ]
    }
   ],
   "source": [
    "i94data.groupBy('i94_id').count().where('count > 1').show(10)"
   ]
  },
  {
   "cell_type": "code",
   "execution_count": 32,
   "metadata": {
    "editable": true
   },
   "outputs": [
    {
     "data": {
      "text/plain": [
       "0"
      ]
     },
     "execution_count": 32,
     "metadata": {},
     "output_type": "execute_result"
    }
   ],
   "source": [
    "i94data.where('i94_id is null').count()"
   ]
  },
  {
   "cell_type": "markdown",
   "metadata": {
    "editable": true
   },
   "source": [
    "There are no missing or duplicate rows by `i94_id`\n",
    "\n",
    "Check date boundaries"
   ]
  },
  {
   "cell_type": "code",
   "execution_count": 33,
   "metadata": {
    "editable": true
   },
   "outputs": [
    {
     "name": "stdout",
     "output_type": "stream",
     "text": [
      "+----------------+----------------+\n",
      "|min(arrive_date)|max(arrive_date)|\n",
      "+----------------+----------------+\n",
      "|      2016-04-01|      2016-04-30|\n",
      "+----------------+----------------+\n",
      "\n"
     ]
    }
   ],
   "source": [
    "i94data.select(f.min('arrive_date'), f.max('arrive_date')).show()"
   ]
  },
  {
   "cell_type": "code",
   "execution_count": 34,
   "metadata": {
    "editable": true
   },
   "outputs": [
    {
     "name": "stdout",
     "output_type": "stream",
     "text": [
      "+----------------+----------------+\n",
      "|min(depart_date)|max(depart_date)|\n",
      "+----------------+----------------+\n",
      "|      2001-07-20|      2084-05-16|\n",
      "+----------------+----------------+\n",
      "\n"
     ]
    }
   ],
   "source": [
    "i94data.select(f.min('depart_date'), f.max('depart_date')).show()"
   ]
  },
  {
   "cell_type": "markdown",
   "metadata": {
    "editable": true
   },
   "source": [
    "#### 2.6.2 Dimension: Date\n",
    "Check duplicates:"
   ]
  },
  {
   "cell_type": "code",
   "execution_count": 35,
   "metadata": {
    "editable": true
   },
   "outputs": [
    {
     "name": "stdout",
     "output_type": "stream",
     "text": [
      "+----+-----+\n",
      "|date|count|\n",
      "+----+-----+\n",
      "+----+-----+\n",
      "\n"
     ]
    }
   ],
   "source": [
    "date.groupBy('date').count().where('count > 1').show(10)"
   ]
  },
  {
   "cell_type": "markdown",
   "metadata": {
    "editable": true
   },
   "source": [
    "Check boundaries, mind the depart date is included"
   ]
  },
  {
   "cell_type": "code",
   "execution_count": 36,
   "metadata": {
    "editable": true
   },
   "outputs": [
    {
     "name": "stdout",
     "output_type": "stream",
     "text": [
      "+----------+----------+\n",
      "| min(date)| max(date)|\n",
      "+----------+----------+\n",
      "|2001-07-20|2084-05-16|\n",
      "+----------+----------+\n",
      "\n"
     ]
    }
   ],
   "source": [
    "date.select(f.min('date'), f.max('date')).show()"
   ]
  },
  {
   "cell_type": "markdown",
   "metadata": {
    "editable": true
   },
   "source": [
    "#### 2.6.3 Dimension: Countries\n",
    "Do we have any missing country ids in the immigration data?"
   ]
  },
  {
   "cell_type": "code",
   "execution_count": 38,
   "metadata": {
    "editable": true
   },
   "outputs": [
    {
     "name": "stdout",
     "output_type": "stream",
     "text": [
      "+------------------+-----+\n",
      "|pers_country_resid|count|\n",
      "+------------------+-----+\n",
      "+------------------+-----+\n",
      "\n"
     ]
    }
   ],
   "source": [
    "i94data.join(countries,\n",
    "              (i94data.pers_country_resid == countries.id),\n",
    "              how = 'left_anti') \\\n",
    "        .groupBy('pers_country_resid') \\\n",
    "        .count().sort(f.desc('count')).show()"
   ]
  },
  {
   "cell_type": "markdown",
   "metadata": {
    "editable": true
   },
   "source": [
    "None for the country of residence."
   ]
  },
  {
   "cell_type": "code",
   "execution_count": 39,
   "metadata": {
    "editable": true
   },
   "outputs": [
    {
     "name": "stdout",
     "output_type": "stream",
     "text": [
      "+------------------+-----+\n",
      "|pers_country_birth|count|\n",
      "+------------------+-----+\n",
      "+------------------+-----+\n",
      "\n"
     ]
    }
   ],
   "source": [
    "i94data.join(countries,\n",
    "              (i94data.pers_country_birth == countries.id),\n",
    "              how = 'left_anti') \\\n",
    "        .groupBy('pers_country_birth') \\\n",
    "        .count().sort(f.desc('count')).show()"
   ]
  },
  {
   "cell_type": "markdown",
   "metadata": {
    "editable": true
   },
   "source": [
    "None for the country of birth.\n",
    "\n",
    "#### 2.6.4 Dimension: States\n",
    "Check missing and duplicate IDs"
   ]
  },
  {
   "cell_type": "code",
   "execution_count": 40,
   "metadata": {
    "editable": true
   },
   "outputs": [
    {
     "name": "stdout",
     "output_type": "stream",
     "text": [
      "+-----+----------+-----+\n",
      "|state|state_code|count|\n",
      "+-----+----------+-----+\n",
      "+-----+----------+-----+\n",
      "\n"
     ]
    }
   ],
   "source": [
    "states.groupBy('state', 'state_code').count().where('count > 1').show(10)"
   ]
  },
  {
   "cell_type": "code",
   "execution_count": 41,
   "metadata": {
    "editable": true
   },
   "outputs": [
    {
     "data": {
      "text/plain": [
       "0"
      ]
     },
     "execution_count": 41,
     "metadata": {},
     "output_type": "execute_result"
    }
   ],
   "source": [
    "states.where('state is null or state_code is null').count()"
   ]
  },
  {
   "cell_type": "markdown",
   "metadata": {
    "editable": true
   },
   "source": [
    "There are no missing or duplicate rows\n",
    "\n",
    "#### 2.6.5 Dimension: State Race Counts\n",
    "Check missing and duplicate IDs"
   ]
  },
  {
   "cell_type": "code",
   "execution_count": 42,
   "metadata": {
    "editable": true
   },
   "outputs": [
    {
     "name": "stdout",
     "output_type": "stream",
     "text": [
      "+-----+----------+----+-----+\n",
      "|state|state_code|race|count|\n",
      "+-----+----------+----+-----+\n",
      "+-----+----------+----+-----+\n",
      "\n"
     ]
    }
   ],
   "source": [
    "state_race_counts.groupBy('state', 'state_code', 'race').count().where('count > 1').show(10)"
   ]
  },
  {
   "cell_type": "code",
   "execution_count": 43,
   "metadata": {
    "editable": true
   },
   "outputs": [
    {
     "data": {
      "text/plain": [
       "0"
      ]
     },
     "execution_count": 43,
     "metadata": {},
     "output_type": "execute_result"
    }
   ],
   "source": [
    "state_race_counts.where('state is null or state_code is null or race is null').count()"
   ]
  },
  {
   "cell_type": "markdown",
   "metadata": {
    "editable": true
   },
   "source": [
    "There are no missing or duplicate rows\n",
    "\n",
    "#### 2.6.6 Dimension: Airports\n",
    "Limiting the immigration data to arrivals by air, we have this many unique arrival ports:"
   ]
  },
  {
   "cell_type": "code",
   "execution_count": 45,
   "metadata": {
    "editable": true
   },
   "outputs": [],
   "source": [
    "arrive_ports = i94data \\\n",
    "    .where('arrive_by = \"Air\"') \\\n",
    "    .select('arrive_port').distinct()"
   ]
  },
  {
   "cell_type": "markdown",
   "metadata": {
    "editable": true
   },
   "source": [
    "Evaluate match to the airport local code"
   ]
  },
  {
   "cell_type": "code",
   "execution_count": 46,
   "metadata": {
    "editable": true
   },
   "outputs": [
    {
     "name": "stdout",
     "output_type": "stream",
     "text": [
      "109 out of 181 arrive|air ports (60.22%) match airports by the local code.\n"
     ]
    }
   ],
   "source": [
    "arrive_ports_m = arrive_ports \\\n",
    "    .join(airports.where('local_code is not null'),\n",
    "          (arrive_ports.arrive_port == airports.local_code),\n",
    "          how = 'left_semi').distinct()\n",
    "\n",
    "apc = arrive_ports.count()\n",
    "apc_m = arrive_ports_m.count()\n",
    "\n",
    "print(f'{apc_m} out of {apc} arrive|air ports ({(100 * apc_m / apc):.2f}%) match airports by the local code.')"
   ]
  },
  {
   "cell_type": "markdown",
   "metadata": {
    "editable": true
   },
   "source": [
    "Project write-up past the data pipelines is completed in `README.md`."
   ]
  },
  {
   "cell_type": "code",
   "execution_count": null,
   "metadata": {
    "editable": true
   },
   "outputs": [],
   "source": []
  }
 ],
 "metadata": {
  "kernelspec": {
   "display_name": "Python 3",
   "language": "python",
   "name": "python3"
  },
  "language_info": {
   "codemirror_mode": {
    "name": "ipython",
    "version": 3
   },
   "file_extension": ".py",
   "mimetype": "text/x-python",
   "name": "python",
   "nbconvert_exporter": "python",
   "pygments_lexer": "ipython3",
   "version": "3.6.3"
  }
 },
 "nbformat": 4,
 "nbformat_minor": 4
}
